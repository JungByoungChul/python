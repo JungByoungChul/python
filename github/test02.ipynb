{
 "cells": [
  {
   "cell_type": "code",
   "execution_count": 4,
   "id": "4094f699",
   "metadata": {},
   "outputs": [],
   "source": [
    "x=1.5\n"
   ]
  },
  {
   "cell_type": "code",
   "execution_count": 5,
   "id": "e0d08aa8",
   "metadata": {},
   "outputs": [
    {
     "data": {
      "text/plain": [
       "False"
      ]
     },
     "execution_count": 5,
     "metadata": {},
     "output_type": "execute_result"
    }
   ],
   "source": [
    "isinstance(x,int)\n",
    "\n"
   ]
  },
  {
   "cell_type": "code",
   "execution_count": 6,
   "id": "f11f4945",
   "metadata": {},
   "outputs": [
    {
     "data": {
      "text/plain": [
       "True"
      ]
     },
     "execution_count": 6,
     "metadata": {},
     "output_type": "execute_result"
    }
   ],
   "source": [
    "isinstance(x,float) \n"
   ]
  },
  {
   "cell_type": "code",
   "execution_count": 12,
   "id": "5e8a0772",
   "metadata": {},
   "outputs": [],
   "source": [
    "a = float(1) \n"
   ]
  },
  {
   "cell_type": "code",
   "execution_count": 13,
   "id": "23eab204",
   "metadata": {},
   "outputs": [
    {
     "data": {
      "text/plain": [
       "1.0"
      ]
     },
     "execution_count": 13,
     "metadata": {},
     "output_type": "execute_result"
    }
   ],
   "source": [
    "a"
   ]
  },
  {
   "cell_type": "code",
   "execution_count": 14,
   "id": "c507c72c",
   "metadata": {},
   "outputs": [],
   "source": [
    "b = int(a) \n"
   ]
  },
  {
   "cell_type": "code",
   "execution_count": 15,
   "id": "07a4a492",
   "metadata": {},
   "outputs": [
    {
     "data": {
      "text/plain": [
       "1"
      ]
     },
     "execution_count": 15,
     "metadata": {},
     "output_type": "execute_result"
    }
   ],
   "source": [
    "b"
   ]
  },
  {
   "cell_type": "code",
   "execution_count": 16,
   "id": "6ced5282",
   "metadata": {},
   "outputs": [],
   "source": [
    "s = \"문자열\"\n"
   ]
  },
  {
   "cell_type": "code",
   "execution_count": 32,
   "id": "f40fdfab",
   "metadata": {},
   "outputs": [],
   "source": [
    "b=b\"stringValue\""
   ]
  },
  {
   "cell_type": "code",
   "execution_count": 33,
   "id": "e3db8971",
   "metadata": {},
   "outputs": [
    {
     "data": {
      "text/plain": [
       "True"
      ]
     },
     "execution_count": 33,
     "metadata": {},
     "output_type": "execute_result"
    }
   ],
   "source": [
    "isinstance(s,str)"
   ]
  },
  {
   "cell_type": "code",
   "execution_count": 34,
   "id": "f13632be",
   "metadata": {},
   "outputs": [
    {
     "data": {
      "text/plain": [
       "False"
      ]
     },
     "execution_count": 34,
     "metadata": {},
     "output_type": "execute_result"
    }
   ],
   "source": [
    "isinstance(s,bytes)"
   ]
  },
  {
   "cell_type": "code",
   "execution_count": 35,
   "id": "92a394b4",
   "metadata": {},
   "outputs": [
    {
     "data": {
      "text/plain": [
       "True"
      ]
     },
     "execution_count": 35,
     "metadata": {},
     "output_type": "execute_result"
    }
   ],
   "source": [
    "isinstance(b,bytes)"
   ]
  },
  {
   "cell_type": "code",
   "execution_count": 36,
   "id": "e6215ee9",
   "metadata": {},
   "outputs": [
    {
     "data": {
      "text/plain": [
       "'문'"
      ]
     },
     "execution_count": 36,
     "metadata": {},
     "output_type": "execute_result"
    }
   ],
   "source": [
    "s[0]"
   ]
  },
  {
   "cell_type": "code",
   "execution_count": 37,
   "id": "8fafd25e",
   "metadata": {},
   "outputs": [
    {
     "data": {
      "text/plain": [
       "'자'"
      ]
     },
     "execution_count": 37,
     "metadata": {},
     "output_type": "execute_result"
    }
   ],
   "source": [
    "s[1]"
   ]
  },
  {
   "cell_type": "code",
   "execution_count": 38,
   "id": "8a27ff92",
   "metadata": {},
   "outputs": [
    {
     "data": {
      "text/plain": [
       "'열'"
      ]
     },
     "execution_count": 38,
     "metadata": {},
     "output_type": "execute_result"
    }
   ],
   "source": [
    "s[2]"
   ]
  },
  {
   "cell_type": "code",
   "execution_count": 39,
   "id": "32ea48e5",
   "metadata": {},
   "outputs": [
    {
     "data": {
      "text/plain": [
       "115"
      ]
     },
     "execution_count": 39,
     "metadata": {},
     "output_type": "execute_result"
    }
   ],
   "source": [
    "b[0]\n"
   ]
  },
  {
   "cell_type": "code",
   "execution_count": 40,
   "id": "0528eb73",
   "metadata": {},
   "outputs": [],
   "source": [
    "x = list((1,2,3,'a'))"
   ]
  },
  {
   "cell_type": "code",
   "execution_count": 41,
   "id": "6e69a18b",
   "metadata": {},
   "outputs": [
    {
     "data": {
      "text/plain": [
       "[1, 2, 3, 'a']"
      ]
     },
     "execution_count": 41,
     "metadata": {},
     "output_type": "execute_result"
    }
   ],
   "source": [
    "x"
   ]
  },
  {
   "cell_type": "code",
   "execution_count": 42,
   "id": "038e215b",
   "metadata": {},
   "outputs": [
    {
     "data": {
      "text/plain": [
       "1"
      ]
     },
     "execution_count": 42,
     "metadata": {},
     "output_type": "execute_result"
    }
   ],
   "source": [
    "x[0]"
   ]
  },
  {
   "cell_type": "code",
   "execution_count": 43,
   "id": "b9d8d130",
   "metadata": {},
   "outputs": [
    {
     "data": {
      "text/plain": [
       "'a'"
      ]
     },
     "execution_count": 43,
     "metadata": {},
     "output_type": "execute_result"
    }
   ],
   "source": [
    "x[3]"
   ]
  },
  {
   "cell_type": "code",
   "execution_count": 44,
   "id": "65610b3d",
   "metadata": {},
   "outputs": [
    {
     "data": {
      "text/plain": [
       "'a'"
      ]
     },
     "execution_count": 44,
     "metadata": {},
     "output_type": "execute_result"
    }
   ],
   "source": [
    "x[-1]"
   ]
  },
  {
   "cell_type": "code",
   "execution_count": 45,
   "id": "c12ba997",
   "metadata": {},
   "outputs": [
    {
     "data": {
      "text/plain": [
       "4"
      ]
     },
     "execution_count": 45,
     "metadata": {},
     "output_type": "execute_result"
    }
   ],
   "source": [
    "len(x)"
   ]
  },
  {
   "cell_type": "code",
   "execution_count": 46,
   "id": "6e6005f9",
   "metadata": {},
   "outputs": [],
   "source": [
    "x.append(10)"
   ]
  },
  {
   "cell_type": "code",
   "execution_count": 47,
   "id": "8355e1cf",
   "metadata": {},
   "outputs": [
    {
     "data": {
      "text/plain": [
       "[1, 2, 3, 'a', 10]"
      ]
     },
     "execution_count": 47,
     "metadata": {},
     "output_type": "execute_result"
    }
   ],
   "source": [
    "x"
   ]
  },
  {
   "cell_type": "code",
   "execution_count": 48,
   "id": "49e9e64f",
   "metadata": {},
   "outputs": [],
   "source": [
    "x.extend([5,6])"
   ]
  },
  {
   "cell_type": "code",
   "execution_count": 49,
   "id": "d0ead7f1",
   "metadata": {},
   "outputs": [
    {
     "data": {
      "text/plain": [
       "[1, 2, 3, 'a', 10, 5, 6]"
      ]
     },
     "execution_count": 49,
     "metadata": {},
     "output_type": "execute_result"
    }
   ],
   "source": [
    "x"
   ]
  },
  {
   "cell_type": "code",
   "execution_count": 50,
   "id": "4f4e01a5",
   "metadata": {},
   "outputs": [],
   "source": [
    "x.remove(5)"
   ]
  },
  {
   "cell_type": "code",
   "execution_count": 51,
   "id": "ce6f8ca4",
   "metadata": {},
   "outputs": [
    {
     "data": {
      "text/plain": [
       "[1, 2, 3, 'a', 10, 6]"
      ]
     },
     "execution_count": 51,
     "metadata": {},
     "output_type": "execute_result"
    }
   ],
   "source": [
    "x\n"
   ]
  },
  {
   "cell_type": "code",
   "execution_count": 52,
   "id": "3c5a7fdb",
   "metadata": {},
   "outputs": [
    {
     "data": {
      "text/plain": [
       "6"
      ]
     },
     "execution_count": 52,
     "metadata": {},
     "output_type": "execute_result"
    }
   ],
   "source": [
    "x.pop()"
   ]
  },
  {
   "cell_type": "code",
   "execution_count": 53,
   "id": "7f3a9d01",
   "metadata": {},
   "outputs": [
    {
     "data": {
      "text/plain": [
       "[1, 2, 3, 'a', 10]"
      ]
     },
     "execution_count": 53,
     "metadata": {},
     "output_type": "execute_result"
    }
   ],
   "source": [
    "x"
   ]
  },
  {
   "cell_type": "code",
   "execution_count": 54,
   "id": "1dc86f06",
   "metadata": {},
   "outputs": [],
   "source": [
    "x.insert(0,100)"
   ]
  },
  {
   "cell_type": "code",
   "execution_count": 55,
   "id": "53601935",
   "metadata": {},
   "outputs": [
    {
     "data": {
      "text/plain": [
       "[100, 1, 2, 3, 'a', 10]"
      ]
     },
     "execution_count": 55,
     "metadata": {},
     "output_type": "execute_result"
    }
   ],
   "source": [
    "x\n"
   ]
  },
  {
   "cell_type": "code",
   "execution_count": 56,
   "id": "7af1f133",
   "metadata": {},
   "outputs": [],
   "source": [
    "del x[0]"
   ]
  },
  {
   "cell_type": "code",
   "execution_count": 57,
   "id": "6f96ad88",
   "metadata": {},
   "outputs": [
    {
     "data": {
      "text/plain": [
       "[1, 2, 3, 'a', 10]"
      ]
     },
     "execution_count": 57,
     "metadata": {},
     "output_type": "execute_result"
    }
   ],
   "source": [
    "x"
   ]
  },
  {
   "cell_type": "code",
   "execution_count": 58,
   "id": "e05dd43a",
   "metadata": {},
   "outputs": [],
   "source": [
    "x[0]=100"
   ]
  },
  {
   "cell_type": "code",
   "execution_count": 59,
   "id": "4bacd2c3",
   "metadata": {},
   "outputs": [
    {
     "data": {
      "text/plain": [
       "[100, 2, 3, 'a', 10]"
      ]
     },
     "execution_count": 59,
     "metadata": {},
     "output_type": "execute_result"
    }
   ],
   "source": [
    "x\n"
   ]
  },
  {
   "cell_type": "code",
   "execution_count": 60,
   "id": "ffc8fe3e",
   "metadata": {},
   "outputs": [
    {
     "data": {
      "text/plain": [
       "[100]"
      ]
     },
     "execution_count": 60,
     "metadata": {},
     "output_type": "execute_result"
    }
   ],
   "source": [
    "x[0:1]"
   ]
  },
  {
   "cell_type": "code",
   "execution_count": 61,
   "id": "bb25ac58",
   "metadata": {},
   "outputs": [
    {
     "data": {
      "text/plain": [
       "[100, 2]"
      ]
     },
     "execution_count": 61,
     "metadata": {},
     "output_type": "execute_result"
    }
   ],
   "source": [
    "x[0:2]"
   ]
  },
  {
   "cell_type": "code",
   "execution_count": 62,
   "id": "a2cd2c2a",
   "metadata": {},
   "outputs": [
    {
     "data": {
      "text/plain": [
       "[100, 2, 3, 'a']"
      ]
     },
     "execution_count": 62,
     "metadata": {},
     "output_type": "execute_result"
    }
   ],
   "source": [
    "x[:-1]"
   ]
  },
  {
   "cell_type": "code",
   "execution_count": 63,
   "id": "b9fd4182",
   "metadata": {},
   "outputs": [],
   "source": [
    "import array"
   ]
  },
  {
   "cell_type": "code",
   "execution_count": 64,
   "id": "6a0f2f86",
   "metadata": {},
   "outputs": [],
   "source": [
    "a = array.array('i',[1,2,3,4,5])"
   ]
  },
  {
   "cell_type": "code",
   "execution_count": 65,
   "id": "3ffd41bf",
   "metadata": {},
   "outputs": [
    {
     "data": {
      "text/plain": [
       "array('i', [1, 2, 3, 4, 5])"
      ]
     },
     "execution_count": 65,
     "metadata": {},
     "output_type": "execute_result"
    }
   ],
   "source": [
    "a\n"
   ]
  },
  {
   "cell_type": "code",
   "execution_count": 66,
   "id": "fee98d26",
   "metadata": {},
   "outputs": [
    {
     "data": {
      "text/plain": [
       "5"
      ]
     },
     "execution_count": 66,
     "metadata": {},
     "output_type": "execute_result"
    }
   ],
   "source": [
    "len(a)"
   ]
  },
  {
   "cell_type": "code",
   "execution_count": 67,
   "id": "1e8e1378",
   "metadata": {},
   "outputs": [],
   "source": [
    "a.append(100)"
   ]
  },
  {
   "cell_type": "code",
   "execution_count": 68,
   "id": "584b9a3a",
   "metadata": {},
   "outputs": [
    {
     "data": {
      "text/plain": [
       "array('i', [1, 2, 3, 4, 5, 100])"
      ]
     },
     "execution_count": 68,
     "metadata": {},
     "output_type": "execute_result"
    }
   ],
   "source": [
    "a"
   ]
  },
  {
   "cell_type": "code",
   "execution_count": null,
   "id": "c03142f9",
   "metadata": {},
   "outputs": [],
   "source": []
  }
 ],
 "metadata": {
  "kernelspec": {
   "display_name": "Python 3 (ipykernel)",
   "language": "python",
   "name": "python3"
  },
  "language_info": {
   "codemirror_mode": {
    "name": "ipython",
    "version": 3
   },
   "file_extension": ".py",
   "mimetype": "text/x-python",
   "name": "python",
   "nbconvert_exporter": "python",
   "pygments_lexer": "ipython3",
   "version": "3.9.7"
  }
 },
 "nbformat": 4,
 "nbformat_minor": 5
}
